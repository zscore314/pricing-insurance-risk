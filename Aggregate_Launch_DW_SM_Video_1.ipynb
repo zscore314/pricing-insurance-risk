{
  "cells": [
    {
      "cell_type": "markdown",
      "metadata": {
        "id": "view-in-github",
        "colab_type": "text"
      },
      "source": [
        "<a href=\"https://colab.research.google.com/github/zscore314/pricing-insurance-risk/blob/main/Aggregate_Launch_DW_SM_Video_1.ipynb\" target=\"_parent\"><img src=\"https://colab.research.google.com/assets/colab-badge.svg\" alt=\"Open In Colab\"/></a>"
      ]
    },
    {
      "cell_type": "markdown",
      "metadata": {
        "id": "672a02cb-60da-449b-8345-561d48be27fb"
      },
      "source": [
        "# The `aggregate` Package\n",
        "Version 1.0.0\n",
        "| Stephen J. Mildenhall\n",
        "| March 1, 2023"
      ],
      "id": "672a02cb-60da-449b-8345-561d48be27fb"
    },
    {
      "cell_type": "markdown",
      "metadata": {
        "id": "f60db1f4-3434-4a78-946d-e239dbdbe194"
      },
      "source": [
        "![](https://readthedocs.org/projects/aggregate/badge/?version=latest)\n",
        "![](https://img.shields.io/pypi/dm/aggregate.svg)\n",
        "![](https://img.shields.io/github/stars/mynl/aggregate.svg)\n",
        "![](https://img.shields.io/github/forks/mynl/aggregate.svg)\n",
        "![](https://img.shields.io/github/contributors/mynl/aggregate.svg)\n",
        "![](https://img.shields.io/pypi/v/aggregate.svg?label=pypi)\n",
        "![](https://img.shields.io/github/commit-activity/m/mynl/aggregate)\n",
        "![](https://img.shields.io/pypi/pyversions/aggregate.svg)\n",
        "![](https://img.shields.io/pypi/l/aggregate.svg)\n",
        "![](https://img.shields.io/reddit/subreddit-subscribers/AggregateDistribution)"
      ],
      "id": "f60db1f4-3434-4a78-946d-e239dbdbe194"
    },
    {
      "cell_type": "markdown",
      "metadata": {
        "id": "wlQ0B53ORDhu"
      },
      "source": [
        "## Introduction \n",
        "\n",
        "* What is ``aggregate``?\n",
        "* Why did you build it?\n",
        "\n",
        "### About this Video \n",
        "\n",
        "* Sections 1-5 are mostly mechanical, how to...\n",
        "* Sections 6-9 are mostly conceptual: why do that and what do you get?\n",
        "* See [Pricing Insurance Risk](https://www.pricinginsurancerisk.com) (PIR) book for theoretical details. \n",
        "* Notebook is available on [www.aggregate.capital](https://www.aggregate.capital), differs slightly from the presented version, includes some bug fixes.\n",
        "\n",
        "### More Help\n",
        "\n",
        "``aggregate`` has a very extensive [online help manual](https://aggregate.readthedocs.io/en/latest/), that is also available as a [standalone pdf](https://aggregate.readthedocs.io/_/downloads/en/latest/pdf/).\n",
        "New users should start with the [10 minute guide to aggregate](https://aggregate.readthedocs.io/en/latest/2_user_guides/2_x_10mins.html) in conjunction with the [student guide](https://aggregate.readthedocs.io/en/latest/2_user_guides/2_x_student.html) for actuarial science majors or the [actuary guide](https://aggregate.readthedocs.io/en/latest/2_user_guides/2_x_actuary_student.html) for more experienced actuarial students and qualified actuaries.  \n",
        "\n",
        "See links throughout to the relevant help sections. "
      ],
      "id": "wlQ0B53ORDhu"
    },
    {
      "cell_type": "markdown",
      "metadata": {
        "id": "86a4404a-7f86-4580-bef6-2d48e859b203"
      },
      "source": [
        "## Running Order\n",
        "\n",
        "### Part I: For Reinsurance and Large Account Pricing Actuaries \n",
        "\n",
        "1. Install ``aggregate`` and upgrade ``matplotlib``\n",
        "1. import \n",
        "1. Insurance example: commercial auto risk retention group \n",
        "1. Apply reinsurance\n",
        "1. Pricing with Distortions\n",
        "\n",
        "### Part II: Strategic Planning and Financial Risk Management with aggregate\n",
        "\n",
        "6. Portfolios\n",
        "1. Natural allocation pricing\n",
        "1. Risk visualization \n",
        "1. Bounds, pricing envelopes and other topics \n",
        "\n",
        "\n",
        "## ``aggregate`` for R Users\n",
        "\n",
        "Use ``aggregate`` from R via the [``reticulate``](https://rstudio.github.io/reticulate/) package.  /EOM\n"
      ],
      "id": "86a4404a-7f86-4580-bef6-2d48e859b203"
    },
    {
      "cell_type": "markdown",
      "source": [
        "# New Section"
      ],
      "metadata": {
        "id": "JE21dQ14jbGU"
      },
      "id": "JE21dQ14jbGU"
    },
    {
      "cell_type": "markdown",
      "metadata": {
        "id": "9c214ec6-2350-48a6-ac61-c40eedda6100"
      },
      "source": [
        "## 1. Install\n",
        "\n",
        "One-time installation."
      ],
      "id": "9c214ec6-2350-48a6-ac61-c40eedda6100"
    },
    {
      "cell_type": "code",
      "execution_count": null,
      "metadata": {
        "id": "uSQR2erQgNd5"
      },
      "outputs": [],
      "source": [
        "try: \n",
        "    import aggregate\n",
        "except ModuleNotFoundError:\n",
        "    !pip install aggregate \n",
        "    # force reload\n",
        "    import os\n",
        "    os.kill(os.getpid(), 9)"
      ],
      "id": "uSQR2erQgNd5"
    },
    {
      "cell_type": "markdown",
      "source": [
        "# Part I: For Reinsurance and Large Account Pricing Actuaries "
      ],
      "metadata": {
        "id": "Tg6uAm68LTzz"
      },
      "id": "Tg6uAm68LTzz"
    },
    {
      "cell_type": "markdown",
      "metadata": {
        "id": "221f5ae2-9c40-406c-8076-a7901c3afacd"
      },
      "source": [
        "## 2. Setup Jupyter and import aggregate components "
      ],
      "id": "221f5ae2-9c40-406c-8076-a7901c3afacd"
    },
    {
      "cell_type": "code",
      "execution_count": null,
      "metadata": {
        "id": "91dcbf45-4d97-4e1a-8f24-f50d062ca04d"
      },
      "outputs": [],
      "source": [
        "import pandas as pd\n",
        "import matplotlib.pyplot as plt\n",
        "import numpy as np\n",
        "import warnings \n",
        "warnings.simplefilter(\"ignore\")\n",
        "%config InlineBackend.figure_format = \"svg\"\n",
        "# %load_ext autotime\n",
        "%load_ext autoreload\n",
        "%autoreload 2"
      ],
      "id": "91dcbf45-4d97-4e1a-8f24-f50d062ca04d"
    },
    {
      "cell_type": "markdown",
      "metadata": {
        "id": "Wi6oTTJ_Hs7Y"
      },
      "source": [
        "All ``aggregate`` functionality exposed through the ``build`` object. "
      ],
      "id": "Wi6oTTJ_Hs7Y"
    },
    {
      "cell_type": "code",
      "execution_count": null,
      "metadata": {
        "id": "kxIH47Hwd-Wu"
      },
      "outputs": [],
      "source": [
        "import aggregate\n",
        "from aggregate import build, qd \n",
        "print(f'Version {aggregate.__version__}')\n",
        "# expect 0.11.*"
      ],
      "id": "kxIH47Hwd-Wu"
    },
    {
      "cell_type": "markdown",
      "metadata": {
        "id": "a1KLY-6ESw7w"
      },
      "source": [
        "**Help**\n",
        "\n",
        "* [The Underwriter class intro](https://aggregate.readthedocs.io/en/latest/2_user_guides/2_x_10mins.html#the-underwriter-class)\n",
        "* [The Underwriter class detail](https://aggregate.readthedocs.io/en/latest/3_reference/3_x_Underwriter.html#underwriter-class)"
      ],
      "id": "a1KLY-6ESw7w"
    },
    {
      "cell_type": "code",
      "execution_count": null,
      "metadata": {
        "id": "8bd067df-74e6-416d-8fcd-b2839ad040c2"
      },
      "outputs": [],
      "source": [
        "build"
      ],
      "id": "8bd067df-74e6-416d-8fcd-b2839ad040c2"
    },
    {
      "cell_type": "code",
      "execution_count": null,
      "metadata": {
        "id": "XZ-pTv169RO9"
      },
      "outputs": [],
      "source": [
        "# Note: in the video this function was called qlist; it has been renamed. qlist \n",
        "# returns a DataFrame; qshow just shows it with no return value. \n",
        "build.qshow('Bodoff')"
      ],
      "id": "XZ-pTv169RO9"
    },
    {
      "cell_type": "code",
      "execution_count": null,
      "metadata": {
        "id": "OUGUYy_9gagA"
      },
      "outputs": [],
      "source": [
        "build.qshow('Dice')"
      ],
      "id": "OUGUYy_9gagA"
    },
    {
      "cell_type": "code",
      "execution_count": null,
      "metadata": {
        "id": "3aCkZY7S9S-Z"
      },
      "outputs": [],
      "source": [
        "build.show('Dice04')"
      ],
      "id": "3aCkZY7S9S-Z"
    },
    {
      "cell_type": "markdown",
      "metadata": {
        "id": "a03b8be3-0139-44b2-bea0-b834346cab87"
      },
      "source": [
        "## 3. Insurance example: commercial auto risk retention group \n",
        "\n",
        "Aggregate, frequency and severity, distributions are specified using the Dec Language (DecL), designed to go from Dec page to Distribution. \n",
        "\n",
        "The DecL program layout is for clarity: each line is a different clause. Python automatically concatenates strings between ``()``. "
      ],
      "id": "a03b8be3-0139-44b2-bea0-b834346cab87"
    },
    {
      "cell_type": "code",
      "execution_count": null,
      "metadata": {
        "id": "af82b6d3-7617-4f21-9478-fad583a24db5"
      },
      "outputs": [],
      "source": [
        "a = build('agg Comm.Auto '\n",
        "          '10 claims '\n",
        "          '10000 xs 0 '\n",
        "          'sev lognorm 50 cv 4 '\n",
        "          'poisson')\n",
        "qd(a)"
      ],
      "id": "af82b6d3-7617-4f21-9478-fad583a24db5"
    },
    {
      "cell_type": "markdown",
      "metadata": {
        "id": "eodn0-teTV16"
      },
      "source": [
        "**Help.** Creating an aggregate distribution using the DecL language:\n",
        "\n",
        "* [Quick start](https://aggregate.readthedocs.io/en/latest/2_user_guides/2_x_10mins.html#creating-an-aggregate-distribution)\n",
        "* [Details](https://aggregate.readthedocs.io/en/latest/2_user_guides/DecL/010_Aggregate.html#specifying-a-realistic-aggregate-distribution)\n",
        "* [Diagnostics](https://aggregate.readthedocs.io/en/latest/2_user_guides/2_x_10mins.html#aggregate-quick-diagnostics)\n",
        "\n",
        "* [DecL keywords](https://aggregate.readthedocs.io/en/latest/4_dec_Language_Reference.html#dec-language-grammar-specification)\n",
        "* [DecL grammar](https://aggregate.readthedocs.io/en/latest/4_dec_Language_Reference.html#dec-language-grammar-specification)\n",
        "* [Picture (railroad diagram) of DecL](https://aggregate.readthedocs.io/en/latest/_static/diagram.xhtml)\n",
        "\n"
      ],
      "id": "eodn0-teTV16"
    },
    {
      "cell_type": "markdown",
      "metadata": {
        "id": "f6f70d10-4cc4-4f0d-8f2c-c2d699434e9b"
      },
      "source": [
        "### Plotting\n",
        "\n",
        "[Help](https://aggregate.readthedocs.io/en/latest/2_user_guides/2_x_10mins.html#the-plot-method)"
      ],
      "id": "f6f70d10-4cc4-4f0d-8f2c-c2d699434e9b"
    },
    {
      "cell_type": "code",
      "execution_count": null,
      "metadata": {
        "id": "32ef5592-7d25-4dab-b444-ebcfc5539842"
      },
      "outputs": [],
      "source": [
        "a.plot()"
      ],
      "id": "32ef5592-7d25-4dab-b444-ebcfc5539842"
    },
    {
      "cell_type": "markdown",
      "metadata": {
        "id": "e3580deb-5065-4fd3-babe-e1e59459ccbc"
      },
      "source": [
        "### Statistics and probability functions\n",
        "\n",
        "Aggregate objects like ``a`` should act like a ``scipy.stats`` probability distribution.\n",
        "\n",
        "[Help](https://aggregate.readthedocs.io/en/latest/2_user_guides/2_x_10mins.html#statistical-functions)"
      ],
      "id": "e3580deb-5065-4fd3-babe-e1e59459ccbc"
    },
    {
      "cell_type": "code",
      "execution_count": null,
      "metadata": {
        "id": "7d0362fb-4180-4449-9b65-19e805e2ab62"
      },
      "outputs": [],
      "source": [
        "a.agg_m, a.agg_sd, a.agg_cv"
      ],
      "id": "7d0362fb-4180-4449-9b65-19e805e2ab62"
    },
    {
      "cell_type": "code",
      "execution_count": null,
      "metadata": {
        "id": "tBq1rrSLjtYZ"
      },
      "outputs": [],
      "source": [
        "a.est_m, a.est_sd, a.est_cv"
      ],
      "id": "tBq1rrSLjtYZ"
    },
    {
      "cell_type": "code",
      "execution_count": null,
      "metadata": {
        "id": "8579e1d3-66bb-420e-a3f9-9ffc682cb571"
      },
      "outputs": [],
      "source": [
        "a.pdf(2000), a.cdf(2000), a.sf(2000), a.sf(10000)"
      ],
      "id": "8579e1d3-66bb-420e-a3f9-9ffc682cb571"
    },
    {
      "cell_type": "code",
      "execution_count": null,
      "metadata": {
        "id": "c07fd601-a820-4255-9d8c-f07f2d9b1520"
      },
      "outputs": [],
      "source": [
        "a.q(.99), a.q(0.999)"
      ],
      "id": "c07fd601-a820-4255-9d8c-f07f2d9b1520"
    },
    {
      "cell_type": "markdown",
      "metadata": {
        "id": "wPMVuNQ4hnsk"
      },
      "source": [
        "### How does ``aggregate`` work?\n",
        "\n",
        "Aggregates have complicated density and distribution functions but simple characteristic functions. ``aggregate`` uses [Fast Fourier transforms](https://en.wikipedia.org/wiki/Fast_Fourier_transform) to invert the characteristic function of the aggregate distribution $A$. \n",
        "\n",
        "The characteristic function of a compound Poisson with expected claim count $\\lambda$ is given by\n",
        "$$\n",
        "M_A(t) := \\mathsf E[e^{it X}] = \\exp(\\lambda(M_X(t) - 1))\n",
        "$$\n",
        "where $M_X(t)$ is the characteristic function of severity $X$ computed by taking the FFT of a discretized severity. See a [raw Python implementation](https://aggregate.readthedocs.io/en/latest/2_user_guides/2_x_10mins.html#aggregate-algorithm-in-detail).\n",
        "\n",
        "The characteristic function is a complex number version of the moment generating function $\\mathsf E[e^{tX}]$. See my [CAS Forum paper](https://www.mynl.com/old/wp/ic.pdf) for more details. "
      ],
      "id": "wPMVuNQ4hnsk"
    },
    {
      "cell_type": "markdown",
      "metadata": {
        "id": "8d98f619-8629-4b99-a7e1-f8378c737a4c"
      },
      "source": [
        "### Three alternative ways to specify exposure\n",
        "\n",
        "As well as entering the claim count you can:\n",
        "\n",
        "1. Enter expected loss directly\n",
        "2. Enter premium and an expected loss ratio\n",
        "3. Enter exposures and a unit rate\n",
        "\n",
        "[Help](https://aggregate.readthedocs.io/en/latest/2_user_guides/DecL/020_exposure.html#the-exposure-clause)\n",
        "\n",
        "The next example enters the expected loss. It also uses the recommended formatting, for clarity. "
      ],
      "id": "8d98f619-8629-4b99-a7e1-f8378c737a4c"
    },
    {
      "cell_type": "code",
      "execution_count": null,
      "metadata": {
        "id": "aac10ff4-f54a-4a32-bc11-27e8a1edc8f0"
      },
      "outputs": [],
      "source": [
        "a2 = build('agg CommAuto2 '\n",
        "           '500 loss '\n",
        "           '10000 xs 0 '\n",
        "           'sev lognorm 50 cv 4 '\n",
        "           'poisson')\n",
        "qd(a2)"
      ],
      "id": "aac10ff4-f54a-4a32-bc11-27e8a1edc8f0"
    },
    {
      "cell_type": "code",
      "execution_count": null,
      "metadata": {
        "id": "fa02a9d6-8066-4b83-9d30-fd0bc36bad16"
      },
      "outputs": [],
      "source": [
        "a3 = build('agg CommAuto3 '\n",
        "           '1000 premium at 50% lr '\n",
        "           '10000 xs 0 '\n",
        "           'sev lognorm 50 cv 4 '\n",
        "           'poisson')\n",
        "qd(a3)"
      ],
      "id": "fa02a9d6-8066-4b83-9d30-fd0bc36bad16"
    },
    {
      "cell_type": "markdown",
      "metadata": {
        "id": "gWWHlz5AYake"
      },
      "source": [
        "The next example enters exposures (e.g., number of power units, for a trucking account) and a per unit rate (in thousands). It also adds two optional arguments,``log2`` (default 16) and ``bs``. These control the number of buckets (``2**log2``) and size of each bucket used in discretization. "
      ],
      "id": "gWWHlz5AYake"
    },
    {
      "cell_type": "code",
      "execution_count": null,
      "metadata": {
        "id": "693ab23e-54ef-4751-93e0-a55d5d0a13ff"
      },
      "outputs": [],
      "source": [
        "a4 = build('agg CommAuto4 '\n",
        "           '167 exposure at 3 rate '\n",
        "           '10000 xs 0 '\n",
        "           'sev lognorm 50 cv 4 '\n",
        "           'poisson'\n",
        "           , bs=1/8, log2=17)\n",
        "qd(a4)"
      ],
      "id": "693ab23e-54ef-4751-93e0-a55d5d0a13ff"
    },
    {
      "cell_type": "markdown",
      "metadata": {
        "id": "ec1a86f5-4c0d-4287-b223-57f9332a6019"
      },
      "source": [
        "### Error analysis\n",
        "\n",
        "The `aggregate_error_analysis` method provides help selecting `bs` and `log2`. \n",
        "\n",
        "``m`` refers to expected losses. ``agg`` is computed analytically, ``est` is the ``aggregate approximation``. ``abs`` gives the absolute error and ``rel`` the relative error. \n",
        "\n",
        "[Help](https://aggregate.readthedocs.io/en/latest/2_user_guides/2_x_10mins.html#estimating-bucket-size-for-discretization)"
      ],
      "id": "ec1a86f5-4c0d-4287-b223-57f9332a6019"
    },
    {
      "cell_type": "code",
      "execution_count": null,
      "metadata": {
        "id": "14b576c4-645f-4a31-8392-5a2544046ce4"
      },
      "outputs": [],
      "source": [
        "ff = lambda x: f'{x:.1%}' if abs(x) < 1 else f'{x:,.1f}'\n",
        "qd(a4.aggregate_error_analysis(17), sparsify=False, col_space=9, float_format=ff)"
      ],
      "id": "14b576c4-645f-4a31-8392-5a2544046ce4"
    },
    {
      "cell_type": "markdown",
      "metadata": {
        "id": "e48b1450-857a-4a6f-bd55-e1cd5b9eb467"
      },
      "source": [
        "## 4. Apply reinsurance \n",
        "\n",
        "Occurrence reinsurance can be applied by adding a clause, after severity before frequency:\n",
        "\n",
        "* ``occurrence net of [limit] xs ]attach]`` \n",
        "* ``occurrence net of [pct] so [limit] xs [attach]``, where ``so`` stands for \"share of\"\n",
        "* ``occurrence ceded to [limit] xs ]attach]`` \n",
        "* ...\n",
        "\n",
        "[Introduction to reinsurance clauses](https://aggregate.readthedocs.io/en/latest/2_user_guides/2_x_10mins.html#reinsurance)\n",
        "\n",
        "[Detailed help](https://aggregate.readthedocs.io/en/latest/2_user_guides/DecL/080_reinsurance.html#the-reinsurance-clauses)"
      ],
      "id": "e48b1450-857a-4a6f-bd55-e1cd5b9eb467"
    },
    {
      "cell_type": "code",
      "execution_count": null,
      "metadata": {
        "id": "74bcd742-82b7-4674-bc2a-4184f88935cd"
      },
      "outputs": [],
      "source": [
        "# Apply occ reins to lower risk limit \n",
        "a_net_occ = build('agg CommAuto:NetOcc '\n",
        "           '10 claims '\n",
        "           '10000 xs 0 '\n",
        "           'sev lognorm 50 cv 4 '\n",
        "           'occurrence net of 90% so 9500 xs 500 '\n",
        "        #    'occurrence net of 9500 xs 500 '\n",
        "           'poisson')\n",
        "qd(a_net_occ)"
      ],
      "id": "74bcd742-82b7-4674-bc2a-4184f88935cd"
    },
    {
      "cell_type": "markdown",
      "metadata": {
        "id": "a9tgUvksjrAZ"
      },
      "source": [
        "**Important.** ``Est E[X]`` shows the net expected loss, so we no longer expect the errors to be small. "
      ],
      "id": "a9tgUvksjrAZ"
    },
    {
      "cell_type": "markdown",
      "metadata": {
        "id": "2fa5b612-9817-4d7e-a23b-eba66df45798"
      },
      "source": [
        "### Plot, accessing underlying `density_df` dataframes\n",
        "\n",
        "The discretized distribution and other statistics are available in ``a.density_df``, a Pandas dataframe. \n",
        "\n",
        "[Help](https://aggregate.readthedocs.io/en/latest/2_user_guides/2_x_10mins.html#the-density-df-dataframe)"
      ],
      "id": "2fa5b612-9817-4d7e-a23b-eba66df45798"
    },
    {
      "cell_type": "code",
      "execution_count": null,
      "metadata": {
        "id": "zVubwfTNkGIA"
      },
      "outputs": [],
      "source": [
        "a.density_df.head()"
      ],
      "id": "zVubwfTNkGIA"
    },
    {
      "cell_type": "code",
      "execution_count": null,
      "metadata": {
        "id": "ea0dd4b9-04bf-4139-b7c7-83956985b146"
      },
      "outputs": [],
      "source": [
        "ax = a.density_df.p_total.plot(xlim=[0, a.q(0.99)], label='gross')\n",
        "a_net_occ.density_df.p_total.plot(ax=ax, label='net occ')\n",
        "ax.legend();"
      ],
      "id": "ea0dd4b9-04bf-4139-b7c7-83956985b146"
    },
    {
      "cell_type": "markdown",
      "metadata": {
        "id": "33640f6c-e155-4a5e-9e09-cee8229500ba"
      },
      "source": [
        "You thinking fast brain is probably surprised there is no impact on small aggregate loss probabilities! The bulge after 500 appears because the net distribution now has a probability mass at 500. Run\n",
        "\n",
        "    a_net_occ.plot()\n",
        "\n",
        "to see the severity plot.\n",
        "\n",
        "If the 9.5M xs 500K excess layer was 100% placed, the  net distribution could be expressed with a lower policy limit. "
      ],
      "id": "33640f6c-e155-4a5e-9e09-cee8229500ba"
    },
    {
      "cell_type": "code",
      "source": [
        "a.plot()"
      ],
      "metadata": {
        "id": "j9VvsswGRzc0"
      },
      "id": "j9VvsswGRzc0",
      "execution_count": null,
      "outputs": []
    },
    {
      "cell_type": "code",
      "source": [
        "a_net_occ.density_df.p_sev.plot(xlim=[0, 1000], logy=True)"
      ],
      "metadata": {
        "id": "_JSE3rW8SENF"
      },
      "id": "_JSE3rW8SENF",
      "execution_count": null,
      "outputs": []
    },
    {
      "cell_type": "code",
      "source": [
        "ax = a_net_occ.reinsurance_df.p_sev_net.plot()\n",
        "a_net_occ.reinsurance_df.p_sev_ceded.plot(ax=ax)\n",
        "a_net_occ.density_df.p_sev.plot(ax=ax)\n",
        "ax.set(xlim=[0, 1000], yscale='log')\n",
        "ax.legend()"
      ],
      "metadata": {
        "id": "gQeKin--WAEW"
      },
      "id": "gQeKin--WAEW",
      "execution_count": null,
      "outputs": []
    },
    {
      "cell_type": "code",
      "source": [
        "a_net_occ.plot()"
      ],
      "metadata": {
        "id": "d22W4HPiRnq7"
      },
      "id": "d22W4HPiRnq7",
      "execution_count": null,
      "outputs": []
    },
    {
      "cell_type": "code",
      "execution_count": null,
      "metadata": {
        "id": "9bfc5475-5024-4339-b4c4-3a5a173086a7"
      },
      "outputs": [],
      "source": [
        "alt = build('agg CommAuto:NetOcc2 '\n",
        "           '10 claims '\n",
        "           '500 xs 0 '\n",
        "           'sev lognorm 50 cv 4 '\n",
        "           'poisson')\n",
        "qd(alt)\n",
        "qd(a_net_occ)"
      ],
      "id": "9bfc5475-5024-4339-b4c4-3a5a173086a7"
    },
    {
      "cell_type": "code",
      "source": [
        "alt.plot()"
      ],
      "metadata": {
        "id": "CW21KKSISpYs"
      },
      "id": "CW21KKSISpYs",
      "execution_count": null,
      "outputs": []
    },
    {
      "cell_type": "markdown",
      "metadata": {
        "id": "a36bfe35-89c6-4ef8-8ccf-d39ebe3fe5cd"
      },
      "source": [
        "### Reinsurance impact on capital at different probability thresholds\n",
        "\n",
        "Use the quantile function ``a.q()``. The rest is pure Python/pandas."
      ],
      "id": "a36bfe35-89c6-4ef8-8ccf-d39ebe3fe5cd"
    },
    {
      "cell_type": "code",
      "execution_count": null,
      "metadata": {
        "id": "50280fef-a5bd-44e4-b9e8-506e1666852c"
      },
      "outputs": [],
      "source": [
        "p_values = [.1, .2, .5, .8, 0.9, .95, .99, .995, .999, .9999]\n",
        "dm = pd.DataFrame({'gross': [a.q(p) for p in p_values], \n",
        "              'net_occ': [a_net_occ.q(p) for p in p_values]},\n",
        "                  index=map(ff, p_values))\n",
        "dm.index.name = 'p'\n",
        "dm['change'] = dm.net_occ / dm.gross - 1\n",
        "qd(dm, float_format=ff)"
      ],
      "id": "50280fef-a5bd-44e4-b9e8-506e1666852c"
    },
    {
      "cell_type": "markdown",
      "metadata": {
        "id": "c5676164-6606-4ae6-8c20-99f17faceb7d"
      },
      "source": [
        "### Ceded losses\n",
        "\n",
        "Reinsurance can output ceded or net views --- but not both."
      ],
      "id": "c5676164-6606-4ae6-8c20-99f17faceb7d"
    },
    {
      "cell_type": "code",
      "execution_count": null,
      "metadata": {
        "id": "635113f5-9093-4ba2-b560-23da8b06ede1"
      },
      "outputs": [],
      "source": [
        "ceded =  build('agg CommAuto:CededOcc '\n",
        "           '10 claims '\n",
        "           '10000 xs 0 '\n",
        "           'sev lognorm 50 cv 4 '\n",
        "           'occurrence ceded to 90% so 9500 xs 500 '\n",
        "           'poisson')\n",
        "qd(ceded)"
      ],
      "id": "635113f5-9093-4ba2-b560-23da8b06ede1"
    },
    {
      "cell_type": "code",
      "source": [
        "ceded.plot()"
      ],
      "metadata": {
        "id": "CtNJLThCN5tJ"
      },
      "id": "CtNJLThCN5tJ",
      "execution_count": null,
      "outputs": []
    },
    {
      "cell_type": "code",
      "source": [
        "ceded.pprogram"
      ],
      "metadata": {
        "id": "s15tKnOxXXve"
      },
      "id": "s15tKnOxXXve",
      "execution_count": null,
      "outputs": []
    },
    {
      "cell_type": "code",
      "source": [
        "ceded =  build('agg CommAuto:CededOcc '\n",
        "           '10 claims '\n",
        "           '10000 xs 0 '\n",
        "           'sev lognorm 50 cv 4 '\n",
        "           'occurrence ceded to 90% so 9500 xs 500 '\n",
        "           'poisson')\n",
        "\n",
        "ax = ceded.reinsurance_df.p_sev_gross.plot()\n",
        "ceded.reinsurance_df.p_sev_ceded.plot(ax=ax)\n",
        "ceded.reinsurance_df.p_sev_net.plot(ax=ax)\n",
        "ax.set(xlim=[0, 500 + .1 * 9500 + 50], yscale='log')\n",
        "ax.legend();"
      ],
      "metadata": {
        "id": "dLgMnrPSWoyf"
      },
      "id": "dLgMnrPSWoyf",
      "execution_count": null,
      "outputs": []
    },
    {
      "cell_type": "code",
      "execution_count": null,
      "metadata": {
        "id": "b3d5661a-c562-467f-9e48-70db0111b332"
      },
      "outputs": [],
      "source": [
        "ceded.q(.99), ceded.q(0.999)"
      ],
      "id": "b3d5661a-c562-467f-9e48-70db0111b332"
    },
    {
      "cell_type": "code",
      "execution_count": null,
      "metadata": {
        "id": "773055b5-516e-4226-9564-e873f4201194"
      },
      "outputs": [],
      "source": [
        "ceded.plot()"
      ],
      "id": "773055b5-516e-4226-9564-e873f4201194"
    },
    {
      "cell_type": "markdown",
      "metadata": {
        "id": "0b9379b8-f3ee-4cd7-8c03-73d3a02889d4"
      },
      "source": [
        "### Layering occurrence losses\n",
        "\n",
        "Underwriters often want to \"layout out\" a program. Here is a split of the 10M limit into first 250, 250 xs 250, 500 xs 500, 1 xs 1, 3 xs 2, and 5 xs 5.\n",
        "\n",
        "[Help on tower clause](https://aggregate.readthedocs.io/en/latest/2_user_guides/DecL/080_reinsurance.html#layering-losses-in-a-tower)\n"
      ],
      "id": "0b9379b8-f3ee-4cd7-8c03-73d3a02889d4"
    },
    {
      "cell_type": "code",
      "execution_count": null,
      "metadata": {
        "id": "74ef7a87-5050-4566-bcdc-7eb77b110975"
      },
      "outputs": [],
      "source": [
        "# layer losses\n",
        "a5 = build('agg CommAuto:LL '\n",
        "           '10 claims '\n",
        "           '10000 xs 0 '\n",
        "           'sev lognorm 50 cv 4 '\n",
        "           'occurrence ceded to tower [0 250 500 1000 2000 5000 10000] '\n",
        "           'poisson')\n",
        "qd(a5.reinsurance_occ_layer_df, sparsify=False)"
      ],
      "id": "74ef7a87-5050-4566-bcdc-7eb77b110975"
    },
    {
      "cell_type": "markdown",
      "metadata": {
        "id": "e504a1f2-a1da-49fb-9ffc-4372ac27b692"
      },
      "source": [
        "### Aggregate cover\n",
        "\n",
        "Aggregate reinsurance clauses have the syntax as occurrence. They appear after the frequency clause. \n",
        "\n",
        "First, use the quantile function to determine limit and attachment at 15% excess 80% in the aggregate. "
      ],
      "id": "e504a1f2-a1da-49fb-9ffc-4372ac27b692"
    },
    {
      "cell_type": "code",
      "execution_count": null,
      "metadata": {
        "id": "f042b534-74e4-4180-a639-d98f43888e86"
      },
      "outputs": [],
      "source": [
        "agg_attach = a_net_occ.q(0.8)\n",
        "agg_detach = a_net_occ.q(0.95)\n",
        "agg_limit = agg_detach - agg_attach\n",
        "agg_limit, agg_attach"
      ],
      "id": "f042b534-74e4-4180-a639-d98f43888e86"
    },
    {
      "cell_type": "markdown",
      "metadata": {
        "id": "mqFccd6SlYLZ"
      },
      "source": [
        "Apply an aggregate reinsurance clause at a 90% placement."
      ],
      "id": "mqFccd6SlYLZ"
    },
    {
      "cell_type": "code",
      "source": [
        "qd(a_net_occ)\n",
        "a_net_occ.pprogram"
      ],
      "metadata": {
        "id": "aUlxDr8fY7xC"
      },
      "id": "aUlxDr8fY7xC",
      "execution_count": null,
      "outputs": []
    },
    {
      "cell_type": "code",
      "execution_count": null,
      "metadata": {
        "id": "14ad2f37-d672-4912-9514-782bdcd267a8"
      },
      "outputs": [],
      "source": [
        "a_net = build('agg CommAuto:Net '\n",
        "           '10 claims '\n",
        "           '10000 xs 0 '\n",
        "           'sev lognorm 50 cv 4 '\n",
        "           'occurrence net of 90% so 9500 xs 500 '\n",
        "           'poisson '\n",
        "           f'aggregate net of 90% so {agg_limit} xs {agg_attach}')\n",
        "qd(a_net)"
      ],
      "id": "14ad2f37-d672-4912-9514-782bdcd267a8"
    },
    {
      "cell_type": "code",
      "source": [
        "a_net.reinsurance_audit_df.head().stack(0)\n",
        "a_net.reinsurance_report_df"
      ],
      "metadata": {
        "id": "IcQhxGA4ZE0J"
      },
      "id": "IcQhxGA4ZE0J",
      "execution_count": null,
      "outputs": []
    },
    {
      "cell_type": "code",
      "execution_count": null,
      "metadata": {
        "id": "6a35b006-2111-4956-82e6-6cda6be7d92f"
      },
      "outputs": [],
      "source": [
        "# impact on capital\n",
        "dm['net_agg'] = [a_net.q(p) for p in p_values]\n",
        "dm['agg change'] = dm.net_agg / dm.net_occ - 1\n",
        "dm['total change'] = dm.net_agg / dm.gross - 1\n",
        "qd(dm, float_format=ff)"
      ],
      "id": "6a35b006-2111-4956-82e6-6cda6be7d92f"
    },
    {
      "cell_type": "markdown",
      "metadata": {
        "id": "dUvY8Lp6l6Bo"
      },
      "source": [
        "### Density functions for gross, net occ, and net from density_df dataframe"
      ],
      "id": "dUvY8Lp6l6Bo"
    },
    {
      "cell_type": "code",
      "execution_count": null,
      "metadata": {
        "id": "0edd642c-f1e2-4e21-9310-1e46472e6bfd"
      },
      "outputs": [],
      "source": [
        "ax = a.density_df['p_total'].plot(xlim=[-50, a.q(0.99)], label='Gross')\n",
        "a_net_occ.density_df['p_total'].plot(ax=ax, label='Net occ')\n",
        "yl = ax.get_ylim()\n",
        "a_net.density_df['p_total'].plot(ax=ax, label='Net')\n",
        "ax.set(ylim=yl)\n",
        "ax.legend();"
      ],
      "id": "0edd642c-f1e2-4e21-9310-1e46472e6bfd"
    },
    {
      "cell_type": "markdown",
      "metadata": {
        "id": "31719def-6b3a-4594-9713-8f95b89a0a2e"
      },
      "source": [
        "### Survival functions for gross, net occ, and net\n",
        "\n",
        "Lognormal is not log concave; it has a very thick tail. "
      ],
      "id": "31719def-6b3a-4594-9713-8f95b89a0a2e"
    },
    {
      "cell_type": "code",
      "execution_count": null,
      "metadata": {
        "id": "7815d70f-0cbe-417e-b604-85778f5231cd"
      },
      "outputs": [],
      "source": [
        "# visualize\n",
        "ax = a.density_df['S'].plot(xlim=[-50, a.q(0.999)], label='Gross')\n",
        "a_net_occ.density_df['S'].plot(ax=ax, label='Net occ')\n",
        "a_net.density_df['S'].plot(ax=ax, label='Net')\n",
        "ax.set(yscale='log', ylim=[1e-6, 1])\n",
        "ax.legend();"
      ],
      "id": "7815d70f-0cbe-417e-b604-85778f5231cd"
    },
    {
      "cell_type": "markdown",
      "metadata": {
        "id": "4fd7574d-1dad-4909-bbe4-2e4cf0aed612"
      },
      "source": [
        "## 5. Pricing with Distortions\n",
        "\n",
        "[Technical introduction to distortions and spectral risk measures](https://aggregate.readthedocs.io/en/latest/5_technical_guides/5_x_distortions.html)\n",
        "\n",
        "[Introduction to the Distortion class](https://aggregate.readthedocs.io/en/latest/2_user_guides/2_x_10mins.html#the-distortion-class)\n",
        "\n"
      ],
      "id": "4fd7574d-1dad-4909-bbe4-2e4cf0aed612"
    },
    {
      "cell_type": "markdown",
      "metadata": {
        "id": "8f67e9a2-801a-4fcd-b244-d95d1e3a6672"
      },
      "source": [
        "Syntax to build a distortion using DecL:\n",
        "\n",
        "``distortion [NAME] distortion_type parameters``\n",
        "\n",
        "Recommended families of distortions from most tail-centric to most volatility-centric.\n",
        "\n",
        "| Name | $g(s)$ | Parameters  | \n",
        "|:----|:-----|:----|\n",
        "|Constant cost of capital (CCoC) | $g(s)=d + vs$ | $v+d=1$, $0 \\le d \\le 1$ discount rate cost, price increases with $d$ |\n",
        "| Proportional hazard | $g(s) = s^c$ |  $0 \\le c \\le 1$, price increases with $c$\n",
        "| Wang                |$g(s) = \\Phi(\\Phi^{-1}(x) + \\lambda)$ | $\\lambda \\ge 0$, price increases with $\\lambda$\n",
        "| Dual | $g(s) = 1 - (1 - s)^d$ | $d \\ge 1$, price increases with $d$ | \n",
        "| TVaR | $g(s) = \\min(1, s / (1-p)$ | $0 \\le p \\le 1$, price increases with $p$; TVaR$_0(X) =\\mathsf E[X]$ and TVaR$_0(X) =\\max(X)$.  | \n",
        "\n",
        "Tail-centric distortions favor cat reinsurance and buy at the top of the tower.\n",
        "\n",
        "Volatility-centric distortions also care about earnings volatility and non-tail events. Management is often volatility-centric. "
      ],
      "id": "8f67e9a2-801a-4fcd-b244-d95d1e3a6672"
    },
    {
      "cell_type": "code",
      "execution_count": null,
      "metadata": {
        "id": "d4014ffe-8d84-454e-a442-e0f80cf8c9b3"
      },
      "outputs": [],
      "source": [
        "d = build('distortion myDUAL dual 1.94363')\n",
        "d.plot();"
      ],
      "id": "d4014ffe-8d84-454e-a442-e0f80cf8c9b3"
    },
    {
      "cell_type": "markdown",
      "metadata": {
        "id": "23f0f93e-5c2d-4be8-a258-2fbe4d2bf9c3"
      },
      "source": [
        "### Price gross with assets at 99 percent level\n",
        "\n",
        "[aggregate.price method](https://aggregate.readthedocs.io/en/latest/3_reference/3_x_Distribution.html#aggregate.distributions.Aggregate.price)\n",
        "\n",
        "Eight standard pricing outputs:\n",
        "\n",
        "1. Expected loss\n",
        "1. Premium\n",
        "1. Expected margin, equal premium minus expected loss \n",
        "1. Capital (surplus), equal assets minus premium \n",
        "1. Assets, equal to 99 percentile of losses\n",
        "1. Expected loss ratio\n",
        "1. PQ is the premium to capital leverage\n",
        "1. ROE equals expected margin over capital \n",
        "\n",
        "From now on, the word **expected** is understood.  "
      ],
      "id": "23f0f93e-5c2d-4be8-a258-2fbe4d2bf9c3"
    },
    {
      "cell_type": "code",
      "execution_count": null,
      "metadata": {
        "id": "7423091c-6bab-4397-94e0-3f1045fb6a77"
      },
      "outputs": [],
      "source": [
        "pr = a.price(0.99, d)\n",
        "pr"
      ],
      "id": "7423091c-6bab-4397-94e0-3f1045fb6a77"
    },
    {
      "cell_type": "markdown",
      "metadata": {
        "id": "b00efc36-f693-4d9a-a9ea-9f1d7582ae22"
      },
      "source": [
        "Can also price by applying the distortion to any series.\n",
        "Returns bid price, expected loss, and ask price.\n",
        "\n",
        "#### Side bar: of bid/ask spread\n",
        "\n",
        "**Ask price**: insured comes to you and asks for a quote to pay their losses. The usual situation.\n",
        "\n",
        "**Bid price**: you approach insured and want them to buy a policy from you. They bid on the policy.\n",
        "\n",
        "Why might you want to \"sell\" a policy? Insurance is usually correlated with total loss. But in some cases it's not. Two examples: 1) if you write whole life insurance and can write an annuity on the same risk you are prefectly hedged.  2) Writing *diversifying cat* risk, such as Chile quake. You are unlikely to have two bad cat losses in the same year. When your peak peril has a loss, the premium you receive from Chile helps pay losses. Chile quake policies can be regarded as part of financing (capital). You pay over expected for financing. The same applies to reinsurance. \n",
        "\n",
        "[distortion.price method](https://aggregate.readthedocs.io/en/latest/3_reference/3_x_Distortion.html#aggregate.spectral.Distortion.price)"
      ],
      "id": "b00efc36-f693-4d9a-a9ea-9f1d7582ae22"
    },
    {
      "cell_type": "code",
      "execution_count": null,
      "metadata": {
        "id": "559cbb8d-9778-49e6-bb4e-cfce5db2099f"
      },
      "outputs": [],
      "source": [
        "d.price(a.density_df.p_total, a.q(0.99), 'both')"
      ],
      "id": "559cbb8d-9778-49e6-bb4e-cfce5db2099f"
    },
    {
      "cell_type": "markdown",
      "metadata": {
        "id": "61a68f78-23c1-494a-bb0d-e048dbb6efe6"
      },
      "source": [
        "### Distortion pricing calculation by hand\n",
        "\n",
        "Here's the underlying calculation by hand. The steps are \n",
        "\n",
        "* Extract density and survival function: ``bit = a.density_df[['loss', 'p_total', 'S']]``\n",
        "* Apply the distortion: ``bit['gS'] = d.g(bit.S)``\n",
        "* Compute $\\int g(S(x))dx$: ``bit.loc[:a.q(0.99)-a.bs, 'gS'].sum() * a.bs``\n"
      ],
      "id": "61a68f78-23c1-494a-bb0d-e048dbb6efe6"
    },
    {
      "cell_type": "code",
      "execution_count": null,
      "metadata": {
        "id": "b1027fa1-eda3-4792-a439-e13886e87df9"
      },
      "outputs": [],
      "source": [
        "bit = a.density_df[['loss', 'p_total', 'S']]\n",
        "bit['gS'] = d.g(bit.S)\n",
        "print(bit.loc[:a.q(0.99)-a.bs, 'gS'].sum() * a.bs, pr.iloc[0, 1])"
      ],
      "id": "b1027fa1-eda3-4792-a439-e13886e87df9"
    },
    {
      "cell_type": "markdown",
      "metadata": {
        "id": "3a19fb51-26b1-401d-92cc-0a21356e7eb5"
      },
      "source": [
        "### Compare gross, ceded, and net pricing\n",
        "\n",
        "All using the same distortion. This \"standalone\" pricing is not the [PIR](https://www.pricinginsurancerisk.com) recommended approach, but it is something people do."
      ],
      "id": "3a19fb51-26b1-401d-92cc-0a21356e7eb5"
    },
    {
      "cell_type": "code",
      "execution_count": null,
      "metadata": {
        "id": "99a93722-7397-415c-b5a1-c86f975b1d24"
      },
      "outputs": [],
      "source": [
        "# put different views in a dictionary \n",
        "A = {'gross': a, 'net_occ': a_net_occ, 'net': a_net, 'ceded': ceded}\n",
        "# apply distortion pricing to each at 99% capital\n",
        "df = pd.concat([v.price(0.99, d) for v in A.values()])\n",
        "df"
      ],
      "id": "99a93722-7397-415c-b5a1-c86f975b1d24"
    },
    {
      "cell_type": "markdown",
      "source": [
        "# Part II: Strategic Planning and Capital Modeling with aggregate"
      ],
      "metadata": {
        "id": "YAWLX4I6LcYt"
      },
      "id": "YAWLX4I6LcYt"
    },
    {
      "cell_type": "markdown",
      "metadata": {
        "id": "be159d05-a39d-441a-8d37-b3307d1ec0b3"
      },
      "source": [
        "## 6. Portfolios\n",
        "Multiple lines. A classic cat-noncat example.\n",
        "\n",
        "[Help](https://aggregate.readthedocs.io/en/latest/2_user_guides/2_x_10mins.html#the-portfolio-class)"
      ],
      "id": "be159d05-a39d-441a-8d37-b3307d1ec0b3"
    },
    {
      "cell_type": "code",
      "execution_count": null,
      "metadata": {
        "id": "1509da5c-4920-40cf-be70-50e972f49b61"
      },
      "outputs": [],
      "source": [
        "p = build('port CNC '\n",
        "          'agg Cat '\n",
        "              '1.8 claims 100000 xs 0 sev 1000 * pareto 1.8 - 1000 poisson '\n",
        "          'agg NonCat '\n",
        "              '15000 loss 1000 xs 0 sev lognorm 50 cv 4 mixed gamma .3 ' \n",
        "         )\n",
        "qd(p)"
      ],
      "id": "1509da5c-4920-40cf-be70-50e972f49b61"
    },
    {
      "cell_type": "markdown",
      "metadata": {
        "id": "93a91499-209f-4c46-b2f6-6ff330c1d0b1"
      },
      "source": [
        "### Update parameters\n",
        "\n",
        "Fails validation because bucket size too coarse for non-cat line.\n",
        "\n",
        "Cat line indicates not enough \"space\" for the aggregate answer. \n",
        "\n",
        "More buckets, smaller bucket size.\n",
        "\n",
        "[Portfolio.update method](https://aggregate.readthedocs.io/en/latest/3_reference/3_x_Portfolio.html#aggregate.portfolio.Portfolio.update)"
      ],
      "id": "93a91499-209f-4c46-b2f6-6ff330c1d0b1"
    },
    {
      "cell_type": "code",
      "execution_count": null,
      "metadata": {
        "id": "212b6157-4db1-464b-bc0d-1cdbaf146f54"
      },
      "outputs": [],
      "source": [
        "p.update(log2=18, bs=1, normalize=False)\n",
        "qd(p)"
      ],
      "id": "212b6157-4db1-464b-bc0d-1cdbaf146f54"
    },
    {
      "cell_type": "markdown",
      "metadata": {
        "id": "e4a8d24c-4450-4981-a5fe-3097dedcbd45"
      },
      "source": [
        "### Set up a pricing framework\n",
        "\n",
        "Corporate / CEO mandates\n",
        "\n",
        "> \"We will achieve a [**15%**] return on capital over the cycle.\" \n",
        "\n",
        "> \"We will hold capital sufficient for [**the 200 year event, per Solvency II**].\" \n",
        "\n",
        "Substitute your favorite values. \n"
      ],
      "id": "e4a8d24c-4450-4981-a5fe-3097dedcbd45"
    },
    {
      "cell_type": "code",
      "execution_count": null,
      "metadata": {
        "id": "f1ade839-fc8f-4ebd-84c3-9b1faf32193d"
      },
      "outputs": [],
      "source": [
        "# solvency II standard assets\n",
        "p_reg = 0.995\n",
        "a = p.q(p_reg)\n",
        "a"
      ],
      "id": "f1ade839-fc8f-4ebd-84c3-9b1faf32193d"
    },
    {
      "cell_type": "markdown",
      "metadata": {
        "id": "858f50ea-cc5d-4bd4-903e-a725d0fd5b1b"
      },
      "source": [
        "Compute CoC implied by a nice round 20000 premium. \n",
        "\n",
        "Assume the company is 100% equity financed so ``roe`` and ``coc`` are interchangeable. "
      ],
      "id": "858f50ea-cc5d-4bd4-903e-a725d0fd5b1b"
    },
    {
      "cell_type": "code",
      "execution_count": null,
      "metadata": {
        "id": "25831551-d324-4f87-8d27-5f4277f170aa"
      },
      "outputs": [],
      "source": [
        "prem = 20000.\n",
        "el = p.density_df.loc[a, 'lev_total']\n",
        "margin = prem - el \n",
        "roe = coc = margin / (a - prem) \n",
        "v = 1 / (1 + coc) \n",
        "d = 1 - v\n",
        "coc"
      ],
      "id": "25831551-d324-4f87-8d27-5f4277f170aa"
    },
    {
      "cell_type": "markdown",
      "metadata": {
        "id": "67ff51a9-4848-4ed9-b610-139b499fc267"
      },
      "source": [
        "### Calibrate distortions\n",
        "Calibrate a range of distortion functions to achieve 20000 total gross pricing. \n",
        "\n",
        "`strict = 'ordered'` returns my favorite \"usual suspects\" distortions.\n",
        "\n",
        "[Portfolio.calibrate_distortions](https://aggregate.readthedocs.io/en/latest/3_reference/3_x_Portfolio.html#aggregate.portfolio.Portfolio.calibrate_distortions)\n",
        "\n",
        "[Portfolio.calibrate_distortion](https://aggregate.readthedocs.io/en/latest/3_reference/3_x_Portfolio.html#aggregate.portfolio.Portfolio.calibrate_distortion)"
      ],
      "id": "67ff51a9-4848-4ed9-b610-139b499fc267"
    },
    {
      "cell_type": "code",
      "execution_count": null,
      "metadata": {
        "id": "d8343246-40ba-47bb-bc48-5a8f8968fc6a"
      },
      "outputs": [],
      "source": [
        "p.calibrate_distortions(ROEs=[coc], Ps=[p_reg], strict='ordered');\n",
        "# p.calibrate_distortions(COCs=[coc], Ps=[p_reg], strict='ordered');\n",
        "p.distortion_df"
      ],
      "id": "d8343246-40ba-47bb-bc48-5a8f8968fc6a"
    },
    {
      "cell_type": "code",
      "execution_count": null,
      "metadata": {
        "id": "467c8d2a-ae7a-46b4-a544-0c83a4dd1aac"
      },
      "outputs": [],
      "source": [
        "# distortions available in a dictionary \n",
        "p.dists"
      ],
      "id": "467c8d2a-ae7a-46b4-a544-0c83a4dd1aac"
    },
    {
      "cell_type": "markdown",
      "metadata": {
        "id": "I9VWoAL3qCDW"
      },
      "source": [
        "[Distortion.s_gs_distortion](https://aggregate.readthedocs.io/en/latest/3_reference/3_x_Distortion.html#aggregate.spectral.Distortion.s_gs_distortion)"
      ],
      "id": "I9VWoAL3qCDW"
    },
    {
      "cell_type": "code",
      "execution_count": null,
      "metadata": {
        "id": "ee000ed3-975d-4c2b-8ce9-114eb75c1eed"
      },
      "outputs": [],
      "source": [
        "# technical issue: \n",
        "# replace ccoc with a close approximation that is continuous at 0\n",
        "from aggregate import Distortion\n",
        "dc = p.dists['ccoc']\n",
        "s = np.array([0, 1e-14, 1])\n",
        "gs = dc.g(s)\n",
        "d0 = Distortion.s_gs_distortion(s, gs, 'CCoC Approx')\n",
        "d0.name = 'ccoc'\n",
        "dc.g(1e-20), d0.g(1e-20)\n",
        "p.dists['ccoc'] = d0"
      ],
      "id": "ee000ed3-975d-4c2b-8ce9-114eb75c1eed"
    },
    {
      "cell_type": "markdown",
      "metadata": {
        "id": "62a64276-d8b9-444b-ba48-9ef146ef404d"
      },
      "source": [
        "### Plot the distortions\n",
        "\n",
        "The different tail / body behavior is consistent with the table above. "
      ],
      "id": "62a64276-d8b9-444b-ba48-9ef146ef404d"
    },
    {
      "cell_type": "code",
      "execution_count": null,
      "metadata": {
        "id": "9f6877f6-b400-4765-9d77-9c6631bb70b1"
      },
      "outputs": [],
      "source": [
        "[v.plot() for v in p.dists.values()];"
      ],
      "id": "9f6877f6-b400-4765-9d77-9c6631bb70b1"
    },
    {
      "cell_type": "markdown",
      "metadata": {
        "id": "pv5DVYAQVLYu"
      },
      "source": [
        "### TVaR as a Pricing Measure  \n",
        "\n",
        "TVaR as a pricing measure uses p=0.327, i.e. the average of the worst 67.3% of outcomes. The best 32.7% of outcomes are ignored. See the last plot.\n",
        "\n",
        "### Underwriter Behavioral Interpretation \n",
        "\n",
        "Here is how an underwriter behaves when pricing using simulation. First, they simulate random numbers uniformly on the y-axis (their subjective probabilities).  Then, they apply $g^{-1}$ to get non-uniform objective probabilities on the x-axis. These are more \n",
        "bunched towards small $s$, the survival probability. Small $s$ values  simulate larger losses. Thus, the underwriter skews the distribution towards larger losses, increasing the mean. For all of these distortions, the mean of losses limited at the 99.5 percentile equals 20,000, the target premium. "
      ],
      "id": "pv5DVYAQVLYu"
    },
    {
      "cell_type": "markdown",
      "metadata": {
        "id": "0e479cb4-700b-4e4e-ba52-19b95c98076a"
      },
      "source": [
        "## 7. Natural allocation pricing across range of distortions \n",
        "\n",
        "Net uses the lifted allocation based on the gross ordering (called the lifted natural allocation). \n",
        "\n",
        "`analyze_distortions` applies the distortions and a range of other BS pricing methods. \n",
        "\n",
        "BS because they \"seem reasonable\", but have no theoretic basis. \n",
        "\n",
        "[Portfolio.analyze_distortions](https://aggregate.readthedocs.io/en/latest/3_reference/3_x_Portfolio.html#aggregate.portfolio.Portfolio.analyze_distortions)\n",
        "\n",
        "[Portfolio.analyze_distortion](https://aggregate.readthedocs.io/en/latest/3_reference/3_x_Portfolio.html#aggregate.portfolio.Portfolio.analyze_distortion)\n"
      ],
      "id": "0e479cb4-700b-4e4e-ba52-19b95c98076a"
    },
    {
      "cell_type": "code",
      "execution_count": null,
      "metadata": {
        "id": "44df5eba-d8ef-4dd6-9ac1-8abfec351763"
      },
      "outputs": [],
      "source": [
        "# look at pricing across methods and distortions \n",
        "ad = p.analyze_distortions(p=p_reg)"
      ],
      "id": "44df5eba-d8ef-4dd6-9ac1-8abfec351763"
    },
    {
      "cell_type": "code",
      "execution_count": null,
      "metadata": {
        "id": "84432089-a206-49b1-9fde-064cb9f3a361"
      },
      "outputs": [],
      "source": [
        "# summary exhibit for each method, here is the dual transform pricing \n",
        "ad.dual_exhibit"
      ],
      "id": "84432089-a206-49b1-9fde-064cb9f3a361"
    },
    {
      "cell_type": "markdown",
      "metadata": {
        "id": "54de9c71-db37-4b3e-afc0-e14c3a5f5c1e"
      },
      "source": [
        "### Compare pricing by unit across different methods "
      ],
      "id": "54de9c71-db37-4b3e-afc0-e14c3a5f5c1e"
    },
    {
      "cell_type": "code",
      "execution_count": null,
      "metadata": {
        "id": "50048b34-1d38-4626-93af-6f2d4dea8178"
      },
      "outputs": [],
      "source": [
        "# loss ratios and premium by method, including additive traditional (BS) methods \n",
        "pricing = pd.concat((\n",
        "        ad.comp_df.xs('LR', axis=0, level=1).sort_values('Cat'),\n",
        "        ad.comp_df.xs('P', axis=0, level=1)), \n",
        "    axis=1, keys=['LR', 'Prem']).drop(index=['EPD', 'VaR', 'TVaR', 'MerPer'])\n",
        "# work for a nicely formatted output \n",
        "fc = lambda x: f'{x:,.0f}'\n",
        "fp = lambda x: f'{x:.1%}'\n",
        "fp3 = lambda x: f'{x:.3%}'\n",
        "qdf = lambda x: qd(x, col_space=10, formatters={\n",
        "    ('LR', 'Cat'): fp, ('LR', 'NonCat'): fp, ('LR', 'total'): fp,\n",
        "    ('Prem', 'Cat'): fc, ('Prem', 'NonCat'): fc, ('Prem', 'total'): fc})\n",
        "qdf(pricing)"
      ],
      "id": "50048b34-1d38-4626-93af-6f2d4dea8178"
    },
    {
      "cell_type": "markdown",
      "metadata": {
        "id": "5b086564-e294-401d-971e-5cee84e07cf4"
      },
      "source": [
        "Notice that the distortion methods span the range well and appear in the expected order."
      ],
      "id": "5b086564-e294-401d-971e-5cee84e07cf4"
    },
    {
      "cell_type": "code",
      "execution_count": null,
      "metadata": {
        "id": "d33dcd45-3561-48af-aa92-d312f984113a"
      },
      "outputs": [],
      "source": [
        "# ROE and allocated capital \n",
        "equity = pd.concat((\n",
        "        ad.comp_df.xs('ROE', axis=0, level=1) ,\n",
        "        ad.comp_df.xs('Q', axis=0, level=1) ), \n",
        "    axis=1, keys=['ROE', 'Q'])\n",
        "qdf3 = lambda x: qd(x, col_space=10, formatters={\n",
        "    ('ROE', 'Cat'): fp3, ('ROE', 'NonCat'): fp3, ('ROE', 'total'): fp3,\n",
        "    ('Q', 'Cat'): fc, ('Q', 'NonCat'): fc, ('Q', 'total'): fc})\n",
        "qdf3(equity.loc[pricing.index])"
      ],
      "id": "d33dcd45-3561-48af-aa92-d312f984113a"
    },
    {
      "cell_type": "markdown",
      "metadata": {
        "id": "3d3c4cb9-b1e6-4a36-9acd-e0a7d1c2cfea"
      },
      "source": [
        "Classical and CCoC methods have constant cost of capital. Other distortion methods\n",
        "have verying cost of allocated capital. "
      ],
      "id": "3d3c4cb9-b1e6-4a36-9acd-e0a7d1c2cfea"
    },
    {
      "cell_type": "code",
      "execution_count": null,
      "metadata": {
        "id": "e50b3b4f-29ff-4ac7-9535-6a1a7fd2a428"
      },
      "outputs": [],
      "source": [
        "# leverage (P:Q) and assets capital \n",
        "levg = pd.concat((\n",
        "        ad.comp_df.xs('PQ', axis=0, level=1) ,\n",
        "        ad.comp_df.xs('a', axis=0, level=1) ), \n",
        "    axis=1, keys=['PQ', 'a'])\n",
        "qdf4 = lambda x: qd(x, col_space=10, formatters={\n",
        "    ('PQ', 'Cat'): fp, ('PQ', 'NonCat'): fp, ('PQ', 'total'): fp,\n",
        "    ('a', 'Cat'): fc, ('a', 'NonCat'): fc, ('a', 'total'): fc})\n",
        "qdf4(levg.loc[pricing.index])"
      ],
      "id": "e50b3b4f-29ff-4ac7-9535-6a1a7fd2a428"
    },
    {
      "cell_type": "code",
      "execution_count": null,
      "metadata": {
        "id": "7f6e5c17-8bb8-4ff8-bd59-0a2088dc73b5"
      },
      "outputs": [],
      "source": [
        "# margin and el\n",
        "mel = pd.concat((\n",
        "        ad.comp_df.xs('M', axis=0, level=1) ,\n",
        "        ad.comp_df.xs('L', axis=0, level=1) ), \n",
        "    axis=1, keys=['M', 'L'])\n",
        "qdf5 = lambda x: qd(x, col_space=10, float_format=fc)\n",
        "qdf5(mel.loc[pricing.index])"
      ],
      "id": "7f6e5c17-8bb8-4ff8-bd59-0a2088dc73b5"
    },
    {
      "cell_type": "code",
      "execution_count": null,
      "metadata": {
        "id": "fce291e6-dd9b-46d2-a262-230031f98a8a"
      },
      "outputs": [],
      "source": [
        "# occurrence reinsurance to cat line, but from 80th to 98th percentile\n",
        "re_attach = p.Cat.q(0.8)\n",
        "re_detach = p.Cat.q(0.98)\n",
        "re_limit = re_detach - re_attach\n",
        "re_limit, re_attach"
      ],
      "id": "fce291e6-dd9b-46d2-a262-230031f98a8a"
    },
    {
      "cell_type": "code",
      "execution_count": null,
      "metadata": {
        "id": "4572bf87-1b77-4681-8866-932461fa7945"
      },
      "outputs": [],
      "source": [
        "p_net = build('port CNC:net '\n",
        "          'agg Cat '\n",
        "              '1.8 claims 100000 xs 0 sev 1000 * pareto 1.8 - 1000 '\n",
        "              f'occurrence net of {re_limit} xs {re_attach} poisson '\n",
        "          'agg NonCat '\n",
        "              '15000 loss 1000 xs 0 sev lognorm 50 cv 4 mixed gamma .3 ' \n",
        "         , update=False)\n",
        "p_net.update(log2=18, bs=1, normalize=False)\n",
        "qd(p_net)"
      ],
      "id": "4572bf87-1b77-4681-8866-932461fa7945"
    },
    {
      "cell_type": "markdown",
      "metadata": {
        "id": "15ba9fe4-510d-401f-8017-fd7893426009"
      },
      "source": [
        "Note: the difference in means is caused by the reinsurance, not an error. "
      ],
      "id": "15ba9fe4-510d-401f-8017-fd7893426009"
    },
    {
      "cell_type": "code",
      "execution_count": null,
      "metadata": {
        "id": "f9110571-68dd-4c08-a1b4-1875fbb769ea"
      },
      "outputs": [],
      "source": [
        "# price net using the same distortions \n",
        "p_net.dists = p.dists\n",
        "ad_net = p_net.analyze_distortions(p=p_reg)"
      ],
      "id": "f9110571-68dd-4c08-a1b4-1875fbb769ea"
    },
    {
      "cell_type": "code",
      "execution_count": null,
      "metadata": {
        "id": "9a0c1d9a-e851-4744-9456-d2d41aeb3573"
      },
      "outputs": [],
      "source": [
        "pricing_net = pd.concat((\n",
        "        ad_net.comp_df.xs('LR', axis=0, level=1).sort_values('Cat'),\n",
        "        ad_net.comp_df.xs('P', axis=0, level=1) ), \n",
        "    axis=1, keys=['LR', 'Prem']).drop(index=['EPD', 'VaR', 'TVaR', 'MerPer'])\n",
        "qdf(pricing_net)"
      ],
      "id": "9a0c1d9a-e851-4744-9456-d2d41aeb3573"
    },
    {
      "cell_type": "markdown",
      "metadata": {
        "id": "7930d427-a751-47ef-a9d5-4b91a4c8f045"
      },
      "source": [
        "Premium is no longer constant. Loss ratios increase, premium decreases."
      ],
      "id": "7930d427-a751-47ef-a9d5-4b91a4c8f045"
    },
    {
      "cell_type": "code",
      "execution_count": null,
      "metadata": {
        "id": "25565c37-d065-4ad1-b761-cfe56199286d"
      },
      "outputs": [],
      "source": [
        "# ROE and allocated capital \n",
        "equity_net = pd.concat((\n",
        "        ad_net.comp_df.xs('ROE', axis=0, level=1) ,\n",
        "        ad_net.comp_df.xs('Q', axis=0, level=1) ), \n",
        "    axis=1, keys=['ROE', 'Q'])\n",
        "qdf3(equity_net.loc[pricing.index])"
      ],
      "id": "25565c37-d065-4ad1-b761-cfe56199286d"
    },
    {
      "cell_type": "markdown",
      "metadata": {
        "id": "3aec1f08-fd98-4d41-a34c-657c3214df99"
      },
      "source": [
        "Net ROE varies by distortion method. Net ROE **increases** with reinsurance \n",
        "because the more stable book can be written at higher leverage, with more\n",
        "expensive equity and less cheap debt. "
      ],
      "id": "3aec1f08-fd98-4d41-a34c-657c3214df99"
    },
    {
      "cell_type": "code",
      "execution_count": null,
      "metadata": {
        "id": "ab38bbd1-13cd-4b80-a99d-76dd12fafda8"
      },
      "outputs": [],
      "source": [
        "# leverage (P:Q) and assets capital \n",
        "levg_net = pd.concat((\n",
        "        ad_net.comp_df.xs('PQ', axis=0, level=1) ,\n",
        "        ad_net.comp_df.xs('a', axis=0, level=1) ), \n",
        "    axis=1, keys=['PQ', 'a'])\n",
        "qdf4(levg_net.loc[pricing.index])"
      ],
      "id": "ab38bbd1-13cd-4b80-a99d-76dd12fafda8"
    },
    {
      "cell_type": "code",
      "execution_count": null,
      "metadata": {
        "id": "220354e8-e316-48ec-bff7-e4bf48d771a6"
      },
      "outputs": [],
      "source": [
        "# margin and el\n",
        "mel_net = pd.concat((\n",
        "        ad_net.comp_df.xs('M', axis=0, level=1) ,\n",
        "        ad_net.comp_df.xs('L', axis=0, level=1) ), \n",
        "    axis=1, keys=['M', 'L'])\n",
        "qdf5(mel_net.loc[pricing.index])"
      ],
      "id": "220354e8-e316-48ec-bff7-e4bf48d771a6"
    },
    {
      "cell_type": "code",
      "execution_count": null,
      "metadata": {
        "id": "0a975916-8c50-43f8-b1f9-45d25fde17ab"
      },
      "outputs": [],
      "source": [
        "qdf((pricing - pricing_net).loc[pricing.index])"
      ],
      "id": "0a975916-8c50-43f8-b1f9-45d25fde17ab"
    },
    {
      "cell_type": "markdown",
      "metadata": {
        "id": "8d449813-6356-4745-afc9-024070fe5e16"
      },
      "source": [
        "### Impact of Reinsurance on Pricing by Unit\n",
        "\n",
        "Making Cat less risky has an impact on the premium for NonCat for two reasons. \n",
        "\n",
        "1. Lower the net volatility of Cat makes emphasizes the volatility risk of NonCat, which also tends to lower its loss ratio. \n",
        "1. Because of its impact on default states, it increases the value of insurance for NonCat, which increases premium and tends to lower the loss ratio. This effect is usually small for well capitalized companies. \n",
        "\n",
        "The more volatility-centric the distortion the lower the net value placed on the reinsurance. The Wang, dual and TVaR place around half the value on reinsurance of that ascribed by CCoC.\n",
        "\n",
        "Both distortion and BS methods see an impact on the premium of both units. "
      ],
      "id": "8d449813-6356-4745-afc9-024070fe5e16"
    },
    {
      "cell_type": "code",
      "execution_count": null,
      "metadata": {
        "id": "FpT3WOZswp7q"
      },
      "outputs": [],
      "source": [
        "qd((pricing - pricing_net)['Prem'], col_space=12, float_format=ff)"
      ],
      "id": "FpT3WOZswp7q"
    },
    {
      "cell_type": "markdown",
      "metadata": {
        "id": "dGN9XR7Yw2Od"
      },
      "source": [
        "For the BS methods, the premium savings all comes from lower net losses and the cost of capital savings on lower assets.\n",
        "\n",
        "For the distortion methods, these savings are moderated by the higher cost of capital (greater leverage, more equity-like capital) for the net book.\n",
        "\n",
        "Here is a reconciliation of premium savings for BS methods as the difference in loss plus cost of captial savings. "
      ],
      "id": "dGN9XR7Yw2Od"
    },
    {
      "cell_type": "code",
      "execution_count": null,
      "metadata": {
        "id": "2c2fc01b-39af-49d7-88c5-fbfb1bac3838"
      },
      "outputs": [],
      "source": [
        "el, el_net = ad.comp_df.iloc[0, -1], ad_net.comp_df.iloc[0, -1]\n",
        "_ = pd.DataFrame(\n",
        "    [p.q(p_reg), \n",
        "     p_net.q(p_reg), \n",
        "     p.q(p_reg) - p_net.q(p_reg), \n",
        "     roe * (p.q(p_reg) - p_net.q(p_reg)) / (1 + roe),\n",
        "     el, \n",
        "     el_net, \n",
        "     el-el_net,\n",
        "     (el - el_net) / (1 + roe), \n",
        "     roe * (p.q(p_reg) - p_net.q(p_reg)) / (1 + roe) + (el - el_net) / (1 + roe)], \n",
        "    index=['[1] Gross assets', \n",
        "           '[2] Net assets', \n",
        "           '[3] Difference in assets = [1] - [2]', \n",
        "           '[4] Discounted cost of capital difference = [3] * roe / (1 + roe)',\n",
        "           '[5] Gross EL', \n",
        "           '[6] Net EL', \n",
        "           '[7] Difference in EL = [5] - [6]', \n",
        "           '[8] Discounted difference in EL = [7] / (1 + roe)',\n",
        "           '[9] Premium difference = [4] + [8]'],\n",
        "    columns=['Value']\n",
        ")\n",
        "_.index.name = 'Item'\n",
        "qd(_, align='left', float_format=ff, col_space=15)"
      ],
      "id": "2c2fc01b-39af-49d7-88c5-fbfb1bac3838"
    },
    {
      "cell_type": "code",
      "execution_count": null,
      "metadata": {
        "id": "4fd9616e-0d6f-4c7f-9493-27fec6f641fe"
      },
      "outputs": [],
      "source": [
        "p_ceded = build('port CNC:ceded '\n",
        "          'agg Cat '\n",
        "              '1.8 claims 100000 xs 0 sev 1000 * pareto 1.8 - 1000 '\n",
        "              f'occurrence ceded to {re_limit} xs {re_attach} poisson '\n",
        "         , update=False)\n",
        "p_ceded.update(log2=18, bs=1, normalize=False)\n",
        "qd(p_ceded)"
      ],
      "id": "4fd9616e-0d6f-4c7f-9493-27fec6f641fe"
    },
    {
      "cell_type": "markdown",
      "metadata": {
        "id": "6Tv_XH1UvIQV"
      },
      "source": [
        "### Implied walkaway loss ratios for reinsurance\n",
        "\n",
        "If ceded LR > walkaway, then re is accretive (beneficial) and the model recommends buying it. It lowers the overall cost of capital.\n",
        "\n",
        "If ceded LR < walkaway, then re is not accretive and the model recommends against buying it. \n",
        "\n",
        "**All BS methods haved the same premium difference - they all evaluate the reinsurance in the same way, and it is the same tail centric view taken by CCoC!**\n",
        "\n",
        "The first table loooks at total premium savings across both lines. This is the appropriate corproate view of the reinsurance. "
      ],
      "id": "6Tv_XH1UvIQV"
    },
    {
      "cell_type": "code",
      "execution_count": null,
      "metadata": {
        "id": "MzHOE4aFv2cS"
      },
      "outputs": [],
      "source": [
        "ceded_loss = p_ceded.est_m\n",
        "lr_wa = ceded_loss / (pricing - pricing_net).loc[pricing.index, ('Prem', 'total')]\n",
        "qd(lr_wa, float_format=fp)"
      ],
      "id": "MzHOE4aFv2cS"
    },
    {
      "cell_type": "markdown",
      "metadata": {
        "id": "uUYTO3bY2beO"
      },
      "source": [
        "The next table looks at the Cat unit's evaluation, only taking the difference in Cat unit premium, placed side-by-side with the corporate view. "
      ],
      "id": "uUYTO3bY2beO"
    },
    {
      "cell_type": "code",
      "execution_count": null,
      "metadata": {
        "id": "a3ed33b0-c6de-4451-b1f3-25f0f2c030bf"
      },
      "outputs": [],
      "source": [
        "ceded_loss = p_ceded.est_m\n",
        "lr_wa_sa = ceded_loss / (pricing - pricing_net).loc[pricing.index, ('Prem', 'Cat')]\n",
        "qd(pd.concat((lr_wa, lr_wa_sa), keys=['corporate', 'BU'], axis=1), float_format=fp, col_space=15)"
      ],
      "id": "a3ed33b0-c6de-4451-b1f3-25f0f2c030bf"
    },
    {
      "cell_type": "markdown",
      "metadata": {
        "id": "326fec7a-9071-4eff-b856-8f230940966f"
      },
      "source": [
        "## 8. Risk visualization\n",
        "\n",
        "See PIR Section 15.5 or [Mildenhall Major (2022)](https://arxiv.org/pdf/2008.12427.pdf) Section 7 for a detailed explation of this monster figure. "
      ],
      "id": "326fec7a-9071-4eff-b856-8f230940966f"
    },
    {
      "cell_type": "code",
      "execution_count": null,
      "metadata": {
        "id": "1a37da30-b5d5-4152-9e8e-64f8cda0caed"
      },
      "outputs": [],
      "source": [
        "fig, axs = plt.subplots(4, 3, figsize=(3 * 3.5, 4 * 2.45), constrained_layout=True)\n",
        "p.apply_distortion(p.dists['dual'], efficient=False)\n",
        "p.twelve_plot(fig, axs, p=0.999, p2=0.999)"
      ],
      "id": "1a37da30-b5d5-4152-9e8e-64f8cda0caed"
    },
    {
      "cell_type": "code",
      "execution_count": null,
      "metadata": {
        "id": "6fb6a778-21ee-47e5-a7b3-70334a99c63f"
      },
      "outputs": [],
      "source": [
        "fig, axs = plt.subplots(4, 3, figsize=(3 * 3.5, 4 * 2.45), constrained_layout=True)\n",
        "p_net.apply_distortion(p.dists['dual'], efficient=False)\n",
        "p_net.twelve_plot(fig, axs, p=0.999, p2=0.999)"
      ],
      "id": "6fb6a778-21ee-47e5-a7b3-70334a99c63f"
    },
    {
      "cell_type": "markdown",
      "metadata": {
        "id": "3b963381-5c2b-46ac-a8c9-d6fce49885ce"
      },
      "source": [
        "## 9. Bounds, pricing envelopes, and other topics \n",
        "\n",
        "See PIR Section 11.2.3 or my paper [Similar risks have similar prices](https://doi.org/10.1016/j.insmatheco.2022.04.006) for more explanation of this section. "
      ],
      "id": "3b963381-5c2b-46ac-a8c9-d6fce49885ce"
    },
    {
      "cell_type": "code",
      "execution_count": null,
      "metadata": {
        "id": "Xc1c1nF-QLRd"
      },
      "outputs": [],
      "source": [
        "from aggregate import Bounds \n",
        "bounds = Bounds(p)"
      ],
      "id": "Xc1c1nF-QLRd"
    },
    {
      "cell_type": "markdown",
      "metadata": {
        "id": "xiYml0VH7bdr"
      },
      "source": [
        "The TVaR probability threshold to reproduce pricing (TVaR distortion parameter). "
      ],
      "id": "xiYml0VH7bdr"
    },
    {
      "cell_type": "code",
      "execution_count": null,
      "metadata": {
        "id": "li-nPk5JQYz3"
      },
      "outputs": [],
      "source": [
        "p_star = bounds.p_star('total', 20000, p.q(p_reg))\n",
        "p_star"
      ],
      "id": "li-nPk5JQYz3"
    },
    {
      "cell_type": "code",
      "execution_count": null,
      "metadata": {
        "id": "ZTCxk_QIXRMs"
      },
      "outputs": [],
      "source": [
        "bounds.tvar_cloud('total', premium=20000, a=p.q(p_reg), n_tps=128, s=128, kind='interp')"
      ],
      "id": "ZTCxk_QIXRMs"
    },
    {
      "cell_type": "code",
      "execution_count": null,
      "metadata": {
        "id": "bchnNKmZX78N"
      },
      "outputs": [],
      "source": [
        "fig, axs = plt.subplots(1,1, figsize=(3.5, 2.45))\n",
        "bounds.weight_image(axs)"
      ],
      "id": "bchnNKmZX78N"
    },
    {
      "cell_type": "code",
      "execution_count": null,
      "metadata": {
        "id": "8W3BZwjSYMZa"
      },
      "outputs": [],
      "source": [
        "# distortion envelopes for 20000 premium\n",
        "fig, axs = plt.subplots(1,3, figsize=(3*3.5, 3.5), constrained_layout=True)\n",
        "ax0, ax1, ax2 = axs.flat\n",
        "axi = iter(axs.flat)\n",
        "bounds.cloud_view(axs.flatten(), 0, alpha=1, pricing=True,\n",
        "                    title=f'Premium={prem:,.1f}, a={a:,.0f}, p*={p_star:.3f}',\n",
        "                    distortions=[{k: p.dists[k] for k in ['ccoc', 'tvar']},\n",
        "                                {k: p.dists[k] for k in ['ph', 'wang', 'dual']}])\n",
        "    "
      ],
      "id": "8W3BZwjSYMZa"
    },
    {
      "cell_type": "code",
      "execution_count": null,
      "metadata": {
        "id": "lSG2TPCzZBJg"
      },
      "outputs": [],
      "source": [
        "from aggregate.bounds import similar_risks_graphs_sa\n",
        "df = similar_risks_graphs_sa(None, bounds, p, p_net, roe, prem, p_reg)"
      ],
      "id": "lSG2TPCzZBJg"
    },
    {
      "cell_type": "markdown",
      "metadata": {
        "id": "OLOX33cg7qZK"
      },
      "source": [
        "Find the max/min net pricing, corresponding to the greatest/least benefit from reinsurance. ``t1`` is the price for net total."
      ],
      "id": "OLOX33cg7qZK"
    },
    {
      "cell_type": "code",
      "execution_count": null,
      "metadata": {
        "id": "edce649a-be99-42c4-97a5-3ed47fbc7bda"
      },
      "outputs": [],
      "source": [
        "rmin = df.loc[df.t1 == df.t1.min()]\n",
        "rmax = df.loc[df.t1 == df.t1.max()]\n",
        "pd.concat((rmin, rmax))"
      ],
      "id": "edce649a-be99-42c4-97a5-3ed47fbc7bda"
    },
    {
      "cell_type": "markdown",
      "metadata": {
        "id": "0712a7f8-755b-4ff0-9a5c-08b7a839f3a5"
      },
      "source": [
        "Build distortions corresponding to the extremes, apply them, and summarize pricing by unit."
      ],
      "id": "0712a7f8-755b-4ff0-9a5c-08b7a839f3a5"
    },
    {
      "cell_type": "code",
      "execution_count": null,
      "metadata": {
        "id": "71dee8bf-cbab-457d-861e-d35efb3858dd"
      },
      "outputs": [],
      "source": [
        "from aggregate import Distortion \n",
        "w = float(rmin.weight.iloc[0])\n",
        "p0, p1 = rmin.index.values[0]\n",
        "if (p0, p1) == (0, 1):\n",
        "    dmin = p.dists['ccoc']\n",
        "else:\n",
        "    dmin = Distortion('bitvar', shape=w, df=[p0, p1], display_name='min net')\n",
        "print(w, p0, p1)\n",
        "\n",
        "w = float(rmax.weight.iloc[0])\n",
        "p0, p1 = rmax.index.values[0]\n",
        "dmax = Distortion('bitvar', shape=w, df=[p0, p1], display_name='max net')\n",
        "print(w, p0, p1)"
      ],
      "id": "71dee8bf-cbab-457d-861e-d35efb3858dd"
    },
    {
      "cell_type": "code",
      "execution_count": null,
      "metadata": {
        "id": "e0c4a7ae-16ac-4a5c-a4cc-8b860ea543e3"
      },
      "outputs": [],
      "source": [
        "admn = p_net.analyze_distortion(dmin, p=p_reg, add_comps=False)\n",
        "admx = p_net.analyze_distortion(dmax, p=p_reg, add_comps=False)\n",
        "add = p_net.analyze_distortion(p.dists['dual'], p=p_reg, add_comps=False)\n",
        "adph = p_net.analyze_distortion(p.dists['ph'], p=p_reg, add_comps=False)\n",
        "adtvar = p_net.analyze_distortion(p.dists['tvar'], p=p_reg, add_comps=False)\n",
        "df_net = pd.concat((admn.exhibit, admx.exhibit, add.exhibit, adph.exhibit, \n",
        "                    adtvar.exhibit))"
      ],
      "id": "e0c4a7ae-16ac-4a5c-a4cc-8b860ea543e3"
    },
    {
      "cell_type": "code",
      "execution_count": null,
      "metadata": {
        "id": "20b7e36c-4de1-45da-9b99-eeae559183a7"
      },
      "outputs": [],
      "source": [
        "admn2 = p.analyze_distortion(dmin, p=p_reg, add_comps=False)\n",
        "admx2 = p.analyze_distortion(dmax, p=p_reg, add_comps=False)\n",
        "add2 = p.analyze_distortion(p.dists['dual'], p=p_reg, add_comps=False)\n",
        "adph2 = p.analyze_distortion(p.dists['ph'], p=p_reg, add_comps=False)\n",
        "adtvar2 = p.analyze_distortion(p.dists['tvar'], p=p_reg, add_comps=False)\n",
        "df_gross = pd.concat((admn2.exhibit, admx2.exhibit, add2.exhibit, \n",
        "                      adph2.exhibit, adtvar2.exhibit))"
      ],
      "id": "20b7e36c-4de1-45da-9b99-eeae559183a7"
    },
    {
      "cell_type": "code",
      "execution_count": null,
      "metadata": {
        "id": "c66c1175-3ea1-44ed-8c9b-ea17a8fa9e80"
      },
      "outputs": [],
      "source": [
        "prem_summary = pd.concat((df_net, df_gross), keys=['net', 'gross']).xs('P', axis=0, level=2).unstack(0).sort_values(('total', 'net'))\n",
        "prem_summary[('total', 'ceded')] = prem_summary[('total', 'gross')] - prem_summary[('total', 'net')] \n",
        "prem_summary[('Cat', 'diff')] = prem_summary[('Cat', 'gross')] - prem_summary[('Cat', 'net')] \n",
        "prem_summary[('NonCat', 'diff')] = prem_summary[('NonCat', 'gross')] - prem_summary[('NonCat', 'net')] \n",
        "prem_summary = prem_summary.sort_index(axis=1)\n",
        "prem_summary"
      ],
      "id": "c66c1175-3ea1-44ed-8c9b-ea17a8fa9e80"
    },
    {
      "cell_type": "markdown",
      "metadata": {
        "id": "bb7d5cef-5465-4fef-bf2b-6a165b6fbdad"
      },
      "source": [
        "NonCat: you charge more when pooled with net because there is a smaller transfer in default and because the volatility is relatively more material.  \n",
        "The more expensive the net, the less budget is available for reinsurance.\n",
        "\n",
        "This table shows that the dual is close to the most volatility-centric distortion, and confirms that TVaR is essentially the most. (There are examples where TVaR is not the most vol-centric.) "
      ],
      "id": "bb7d5cef-5465-4fef-bf2b-6a165b6fbdad"
    },
    {
      "cell_type": "markdown",
      "metadata": {
        "id": "cd1c829e-b067-4fc7-9b88-aacaa7a18cf9"
      },
      "source": [
        "### Risk Progression \n",
        "\n",
        "SRMs are law invariance, they only depend on distributions. As a result, insurers are indifferent whether units contribute loss $X_i$ or loss $\\mathsf E[X_i \\mid X]$. This opens up a nice way to think about diversification benefit, splitting it into a pooling component, the difference between the standalone price of $X_i$ and $\\mathsf E[X_i \\mid X]$, and a subsequent portfolio effect in the caswe that the $\\mathsf E[X_i \\mid X]$ are not all comonotonic. The exhibits below quantify the components of this split. "
      ],
      "id": "cd1c829e-b067-4fc7-9b88-aacaa7a18cf9"
    },
    {
      "cell_type": "code",
      "execution_count": null,
      "metadata": {
        "id": "3e2ab733-aa53-41dd-b82a-c0dbfd8c19a2"
      },
      "outputs": [],
      "source": [
        "from aggregate.extensions import risk_progression as rp"
      ],
      "id": "3e2ab733-aa53-41dd-b82a-c0dbfd8c19a2"
    },
    {
      "cell_type": "markdown",
      "metadata": {
        "id": "PBTiab9G-iEZ"
      },
      "source": [
        "$\\mathsf E[X_i \\mid X]$ is stored in ``density_df`` as the columns ``exeqa_[unit name]``. "
      ],
      "id": "PBTiab9G-iEZ"
    },
    {
      "cell_type": "code",
      "execution_count": null,
      "metadata": {
        "id": "682ab077-e4ca-45db-9694-aefc3e5a881e"
      },
      "outputs": [],
      "source": [
        "p.density_df.filter(regex='exeqa_[CNts]')"
      ],
      "id": "682ab077-e4ca-45db-9694-aefc3e5a881e"
    },
    {
      "cell_type": "markdown",
      "metadata": {
        "id": "3DUcMOYZ-s5u"
      },
      "source": [
        "A plot of $\\mathsf E[X_i \\mid X]$ shows that the cat and noncat units have very different behaviors. Cat (orange) drives the tail. "
      ],
      "id": "3DUcMOYZ-s5u"
    },
    {
      "cell_type": "code",
      "execution_count": null,
      "metadata": {
        "id": "e669e5ba-3b46-407c-a088-e0a7832db32c"
      },
      "outputs": [],
      "source": [
        "ax = p.density_df.filter(regex='exeqa_[CNt]').plot(figsize=(3.5, 3.5))\n",
        "b = p.q(0.99999)\n",
        "ax.set(xlim=[0, b], ylim=[0,b])\n",
        "\n",
        "ax = p_net.density_df.filter(regex='exeqa_[CNt]').plot(ax=ax, ls=':')\n",
        "for i, l in enumerate(ax.lines[3:]):\n",
        "    l.set(c=f'C{i}')\n",
        "ax.legend();"
      ],
      "id": "e669e5ba-3b46-407c-a088-e0a7832db32c"
    },
    {
      "cell_type": "markdown",
      "metadata": {
        "id": "15dc12ac-bffe-4c3b-87fd-dbfa826b8222"
      },
      "source": [
        "The next block gives gross dual distortion pricing by unit (as above)."
      ],
      "id": "15dc12ac-bffe-4c3b-87fd-dbfa826b8222"
    },
    {
      "cell_type": "code",
      "execution_count": null,
      "metadata": {
        "id": "aee58b04-66a3-4fdc-ad37-fed432c0415e"
      },
      "outputs": [],
      "source": [
        "add2.exhibit"
      ],
      "id": "aee58b04-66a3-4fdc-ad37-fed432c0415e"
    },
    {
      "cell_type": "markdown",
      "metadata": {
        "id": "Ng74Y52x-_xv"
      },
      "source": [
        "The next dataframe and figure show the split of pricing by unit. See my forthcoming paper for more explanation. "
      ],
      "id": "Ng74Y52x-_xv"
    },
    {
      "cell_type": "code",
      "execution_count": null,
      "metadata": {
        "id": "a82c07bd-9f5f-4bb2-8f37-74f3531ad47b"
      },
      "outputs": [],
      "source": [
        "ans = rp.full_monty(p, p.dists['dual'], 8)\n",
        "ans.compare_df"
      ],
      "id": "a82c07bd-9f5f-4bb2-8f37-74f3531ad47b"
    },
    {
      "cell_type": "code",
      "execution_count": null,
      "metadata": {
        "id": "34dbd720-a19d-422c-a2a5-62e3562cb1c8"
      },
      "outputs": [],
      "source": [
        "ans_n = rp.full_monty(p_net, p.dists['dual'], 8)\n",
        "ans_n.compare_df"
      ],
      "id": "34dbd720-a19d-422c-a2a5-62e3562cb1c8"
    }
  ],
  "metadata": {
    "colab": {
      "provenance": [],
      "toc_visible": true,
      "include_colab_link": true
    },
    "kernelspec": {
      "display_name": "Python 3 (ipykernel)",
      "language": "python",
      "name": "python3"
    },
    "language_info": {
      "codemirror_mode": {
        "name": "ipython",
        "version": 3
      },
      "file_extension": ".py",
      "mimetype": "text/x-python",
      "name": "python",
      "nbconvert_exporter": "python",
      "pygments_lexer": "ipython3",
      "version": "3.8.12"
    }
  },
  "nbformat": 4,
  "nbformat_minor": 5
}